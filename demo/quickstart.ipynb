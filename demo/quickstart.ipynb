{
 "cells": [
  {
   "cell_type": "markdown",
   "metadata": {},
   "source": [
    "## Spaceship Quickstart\n",
    "This guide will show how to use Spaceship to create a (Delta Lake) dataset, add some data, and query from it."
   ]
  },
  {
   "cell_type": "markdown",
   "metadata": {},
   "source": [
    "This first example will create and interact with datasets locally. For cloud object storage see [Using Cloud Object Storage](#using-cloud-object-storage).\n",
    "\n",
    "Let's first create a client which provide access to most of the commands we want."
   ]
  },
  {
   "cell_type": "code",
   "execution_count": 1,
   "metadata": {},
   "outputs": [],
   "source": [
    "from spaceship import Client\n",
    "\n",
    "client = Client()"
   ]
  },
  {
   "cell_type": "markdown",
   "metadata": {},
   "source": [
    "We can use the client to list datasets both locally and cloud storage like S3 or Digital Ocean Spaces. But let's first try with local datasets."
   ]
  },
  {
   "cell_type": "code",
   "execution_count": 3,
   "metadata": {},
   "outputs": [
    {
     "data": {
      "text/plain": [
       "[]"
      ]
     },
     "execution_count": 3,
     "metadata": {},
     "output_type": "execute_result"
    }
   ],
   "source": [
    "client.list_datasets()  # not providing path / bucket name will look for dataset in the cwd"
   ]
  },
  {
   "cell_type": "markdown",
   "metadata": {},
   "source": [
    "There is no dataset in the cwd, so let's create one.\n",
    "\n",
    "To create a dataset, we will need to provide a dataset schema.\n",
    "Spaceship supports PyArrow's Schema object.\n",
    "\n",
    "The schema will be enforeced every time new data is added to the dataset."
   ]
  },
  {
   "cell_type": "code",
   "execution_count": 4,
   "metadata": {},
   "outputs": [
    {
     "data": {
      "text/plain": [
       "id: int64 not null\n",
       "  -- field metadata --\n",
       "  description: 'user id'\n",
       "date: date32[day] not null\n",
       "  -- field metadata --\n",
       "  description: 'register date'\n",
       "name: string not null\n",
       "  -- field metadata --\n",
       "  description: 'user name'\n",
       "age: string\n",
       "  -- field metadata --\n",
       "  description: 'user age'"
      ]
     },
     "execution_count": 4,
     "metadata": {},
     "output_type": "execute_result"
    }
   ],
   "source": [
    "import pyarrow as pa\n",
    "\n",
    "fields = [\n",
    "    pa.field(\"id\", pa.int64(), metadata={\"description\": \"user id\"}, nullable=False),\n",
    "    pa.field(\"date\", pa.date32(), metadata={\"description\": \"register date\"}, nullable=False),\n",
    "    pa.field(\"name\", pa.string(), metadata={\"description\": \"user name\"}, nullable=False),\n",
    "    pa.field(\"age\", pa.string(), metadata={\"description\": \"user age\"}, nullable=True),\n",
    "]\n",
    "\n",
    "schema = pa.schema(fields)\n",
    "schema"
   ]
  },
  {
   "cell_type": "markdown",
   "metadata": {},
   "source": [
    "Now we can use the schema to create a dataset."
   ]
  },
  {
   "cell_type": "code",
   "execution_count": null,
   "metadata": {},
   "outputs": [
    {
     "data": {
      "text/plain": [
       "['my_dataset']"
      ]
     },
     "execution_count": 5,
     "metadata": {},
     "output_type": "execute_result"
    }
   ],
   "source": [
    "client.create_dataset(\n",
    "    \"my_dataset\",  # dataset name or path to data set for local mode\n",
    "    schema=schema,\n",
    "    description=\"My new dataset\",\n",
    ")\n",
    "\n",
    "client.list_datasets()"
   ]
  },
  {
   "cell_type": "markdown",
   "metadata": {},
   "source": [
    "### Adding data to the dataset.\n",
    "\n",
    "Spaceship supports adding data from multiple sources such as csv or parquet file, Pandas DataFrame, Pyarrow Table and Dataset.\n",
    "\n",
    "For now, let's pass a Pandas dataframe directly."
   ]
  },
  {
   "cell_type": "code",
   "execution_count": null,
   "metadata": {},
   "outputs": [],
   "source": [
    "from datetime import date\n",
    "\n",
    "import pandas as pd\n",
    "\n",
    "df = pd.DataFrame({\n",
    "    \"id\": [100, 101, 102],\n",
    "    \"date\": [date(2025, 1, 1), date(2025, 1, 2), date(2025, 1, 3),],\n",
    "    \"name\": [\"Eric\", \"Julia\", \"Mark\"],\n",
    "    \"age\": [30, 40, None]\n",
    "})\n",
    "\n",
    "client.append(df, \"my_dataset\")  # The second argument is the dataset name to append"
   ]
  },
  {
   "cell_type": "markdown",
   "metadata": {},
   "source": [
    "### Querying the data.\n",
    "\n",
    "Spaceship leverages duckdb query engine under the hood. Therefore, we can easily get the data using SQL."
   ]
  },
  {
   "cell_type": "code",
   "execution_count": 8,
   "metadata": {},
   "outputs": [
    {
     "data": {
      "text/html": [
       "<div>\n",
       "<style scoped>\n",
       "    .dataframe tbody tr th:only-of-type {\n",
       "        vertical-align: middle;\n",
       "    }\n",
       "\n",
       "    .dataframe tbody tr th {\n",
       "        vertical-align: top;\n",
       "    }\n",
       "\n",
       "    .dataframe thead th {\n",
       "        text-align: right;\n",
       "    }\n",
       "</style>\n",
       "<table border=\"1\" class=\"dataframe\">\n",
       "  <thead>\n",
       "    <tr style=\"text-align: right;\">\n",
       "      <th></th>\n",
       "      <th>id</th>\n",
       "      <th>date</th>\n",
       "      <th>name</th>\n",
       "      <th>age</th>\n",
       "      <th>load_partition_date</th>\n",
       "    </tr>\n",
       "  </thead>\n",
       "  <tbody>\n",
       "    <tr>\n",
       "      <th>0</th>\n",
       "      <td>100</td>\n",
       "      <td>2025-01-01</td>\n",
       "      <td>Eric</td>\n",
       "      <td>30</td>\n",
       "      <td>2025-01-31</td>\n",
       "    </tr>\n",
       "    <tr>\n",
       "      <th>1</th>\n",
       "      <td>101</td>\n",
       "      <td>2025-01-02</td>\n",
       "      <td>Julia</td>\n",
       "      <td>40</td>\n",
       "      <td>2025-01-31</td>\n",
       "    </tr>\n",
       "    <tr>\n",
       "      <th>2</th>\n",
       "      <td>102</td>\n",
       "      <td>2025-01-03</td>\n",
       "      <td>Mark</td>\n",
       "      <td>None</td>\n",
       "      <td>2025-01-31</td>\n",
       "    </tr>\n",
       "  </tbody>\n",
       "</table>\n",
       "</div>"
      ],
      "text/plain": [
       "    id       date   name   age load_partition_date\n",
       "0  100 2025-01-01   Eric    30          2025-01-31\n",
       "1  101 2025-01-02  Julia    40          2025-01-31\n",
       "2  102 2025-01-03   Mark  None          2025-01-31"
      ]
     },
     "execution_count": 8,
     "metadata": {},
     "output_type": "execute_result"
    }
   ],
   "source": [
    "client.query(\"\"\"\n",
    "\n",
    "    SELECT * FROM lc.my_dataset\n",
    "\n",
    "\"\"\").df()"
   ]
  },
  {
   "cell_type": "markdown",
   "metadata": {},
   "source": [
    "Notes:\n",
    "- `lc.` prefix refers to local dataset. If your dataset is in cwd we call refer to it as `lc.\"path/to/your/dataset\"`\n",
    "- object returned from `client.query` is a duckdb object similar to when you call `duckdb.query`\n",
    "- `load_partition_date` is added automatically as a partition column if partition column(s) is not provided when create a dataset.\n",
    "  The value will is the date the data is added. This is to provide a default option to query data efficiently."
   ]
  },
  {
   "cell_type": "markdown",
   "metadata": {},
   "source": [
    "Let's try adding more data from a csv file `somefile.csv` that looks like this.\n",
    "\n",
    "```csv\n",
    "id,date,name,age\n",
    "201,2025-01-04,Nolan,30\n",
    "202,2025-01-05,Amy,\n",
    "203,2025-01-06,Dan,25\n",
    "```"
   ]
  },
  {
   "cell_type": "code",
   "execution_count": 10,
   "metadata": {},
   "outputs": [
    {
     "data": {
      "text/html": [
       "<div>\n",
       "<style scoped>\n",
       "    .dataframe tbody tr th:only-of-type {\n",
       "        vertical-align: middle;\n",
       "    }\n",
       "\n",
       "    .dataframe tbody tr th {\n",
       "        vertical-align: top;\n",
       "    }\n",
       "\n",
       "    .dataframe thead th {\n",
       "        text-align: right;\n",
       "    }\n",
       "</style>\n",
       "<table border=\"1\" class=\"dataframe\">\n",
       "  <thead>\n",
       "    <tr style=\"text-align: right;\">\n",
       "      <th></th>\n",
       "      <th>id</th>\n",
       "      <th>date</th>\n",
       "      <th>name</th>\n",
       "      <th>age</th>\n",
       "      <th>load_partition_date</th>\n",
       "    </tr>\n",
       "  </thead>\n",
       "  <tbody>\n",
       "    <tr>\n",
       "      <th>0</th>\n",
       "      <td>201</td>\n",
       "      <td>2025-01-04</td>\n",
       "      <td>Nolan</td>\n",
       "      <td>30</td>\n",
       "      <td>2025-01-31</td>\n",
       "    </tr>\n",
       "    <tr>\n",
       "      <th>1</th>\n",
       "      <td>202</td>\n",
       "      <td>2025-01-05</td>\n",
       "      <td>Amy</td>\n",
       "      <td>None</td>\n",
       "      <td>2025-01-31</td>\n",
       "    </tr>\n",
       "    <tr>\n",
       "      <th>2</th>\n",
       "      <td>203</td>\n",
       "      <td>2025-01-06</td>\n",
       "      <td>Dan</td>\n",
       "      <td>25</td>\n",
       "      <td>2025-01-31</td>\n",
       "    </tr>\n",
       "    <tr>\n",
       "      <th>3</th>\n",
       "      <td>100</td>\n",
       "      <td>2025-01-01</td>\n",
       "      <td>Eric</td>\n",
       "      <td>30</td>\n",
       "      <td>2025-01-31</td>\n",
       "    </tr>\n",
       "    <tr>\n",
       "      <th>4</th>\n",
       "      <td>101</td>\n",
       "      <td>2025-01-02</td>\n",
       "      <td>Julia</td>\n",
       "      <td>40</td>\n",
       "      <td>2025-01-31</td>\n",
       "    </tr>\n",
       "    <tr>\n",
       "      <th>5</th>\n",
       "      <td>102</td>\n",
       "      <td>2025-01-03</td>\n",
       "      <td>Mark</td>\n",
       "      <td>None</td>\n",
       "      <td>2025-01-31</td>\n",
       "    </tr>\n",
       "  </tbody>\n",
       "</table>\n",
       "</div>"
      ],
      "text/plain": [
       "    id       date   name   age load_partition_date\n",
       "0  201 2025-01-04  Nolan    30          2025-01-31\n",
       "1  202 2025-01-05    Amy  None          2025-01-31\n",
       "2  203 2025-01-06    Dan    25          2025-01-31\n",
       "3  100 2025-01-01   Eric    30          2025-01-31\n",
       "4  101 2025-01-02  Julia    40          2025-01-31\n",
       "5  102 2025-01-03   Mark  None          2025-01-31"
      ]
     },
     "execution_count": 10,
     "metadata": {},
     "output_type": "execute_result"
    }
   ],
   "source": [
    "client.append(\"./somefile.csv\", \"my_dataset\")\n",
    "\n",
    "client.query(\"\"\"\n",
    "\n",
    "    SELECT * FROM lc.my_dataset\n",
    "\n",
    "\"\"\").df()"
   ]
  },
  {
   "cell_type": "markdown",
   "metadata": {},
   "source": [
    "### Using Cloud Object Storage"
   ]
  },
  {
   "cell_type": "markdown",
   "metadata": {},
   "source": [
    "Usually we will want to store our data on the cloud distributed object storage for better connectivity to other services.\n",
    "\n",
    "This can be done in pretty much the same way as the local example.\n",
    "\n",
    "Let's first define a new client. I'll use DigitalOcean Spaces as an example."
   ]
  },
  {
   "cell_type": "code",
   "execution_count": 5,
   "metadata": {},
   "outputs": [],
   "source": [
    "from spaceship import Client\n",
    "\n",
    "client = Client(\n",
    "    access_key=\"<your-access-key>\",  # This can be set with ACCESS_KEY env variable\n",
    "    secret_key=\"<your-secret-key>\",  # This can be set with SECRET_KEY env variable\n",
    "    region=\"nyc3\",\n",
    "    endpoint=\"digitaloceanspaces.com\",\n",
    ")"
   ]
  },
  {
   "cell_type": "markdown",
   "metadata": {},
   "source": [
    "We will need to create a new bucket first. Here I've created a bucket call `spaceshiptestbucket`.\n",
    "\n",
    "Let's list datasets in the bucket."
   ]
  },
  {
   "cell_type": "code",
   "execution_count": 6,
   "metadata": {},
   "outputs": [
    {
     "data": {
      "text/plain": [
       "[]"
      ]
     },
     "execution_count": 6,
     "metadata": {},
     "output_type": "execute_result"
    }
   ],
   "source": [
    "client.list_datasets(bucket=\"spaceshiptestbucket\")"
   ]
  },
  {
   "cell_type": "markdown",
   "metadata": {},
   "source": [
    "There is nothing there as this is a new bucket. Let's creaet a new dataset. We can start with defining a PyArrow schema."
   ]
  },
  {
   "cell_type": "code",
   "execution_count": 7,
   "metadata": {},
   "outputs": [
    {
     "data": {
      "text/plain": [
       "id: int64 not null\n",
       "  -- field metadata --\n",
       "  description: 'product id'\n",
       "product: string not null\n",
       "  -- field metadata --\n",
       "  description: 'product name'\n",
       "price: double not null\n",
       "  -- field metadata --\n",
       "  description: 'product price'\n",
       "quantity: int64 not null\n",
       "  -- field metadata --\n",
       "  description: 'product quantity'\n",
       "company: string not null\n",
       "  -- field metadata --\n",
       "  description: 'product maker'"
      ]
     },
     "execution_count": 7,
     "metadata": {},
     "output_type": "execute_result"
    }
   ],
   "source": [
    "import pyarrow as pa\n",
    "\n",
    "fields = [\n",
    "    pa.field(\"id\", pa.int64(), metadata={\"description\": \"product id\"}, nullable=False),\n",
    "    pa.field(\"product\", pa.string(), metadata={\"description\": \"product name\"}, nullable=False),\n",
    "    pa.field(\"price\", pa.float64(), metadata={\"description\": \"product price\"}, nullable=False),\n",
    "    pa.field(\"quantity\", pa.int64(), metadata={\"description\": \"product quantity\"}, nullable=False),\n",
    "    pa.field(\"company\", pa.string(), metadata={\"description\": \"product maker\"}, nullable=False),\n",
    "]\n",
    "\n",
    "schema = pa.schema(fields)\n",
    "schema"
   ]
  },
  {
   "cell_type": "markdown",
   "metadata": {},
   "source": [
    "Now we can create a dataset with bucket name provided."
   ]
  },
  {
   "cell_type": "code",
   "execution_count": 9,
   "metadata": {},
   "outputs": [
    {
     "data": {
      "text/plain": [
       "['product_dataset']"
      ]
     },
     "execution_count": 9,
     "metadata": {},
     "output_type": "execute_result"
    }
   ],
   "source": [
    "client.create_dataset(\n",
    "    \"product_dataset\",  # dataset name only for object storage\n",
    "    schema=schema,\n",
    "    description=\"Product dataset\",\n",
    "    bucket=\"spaceshiptestbucket\",\n",
    "    partition_columns=[\"company\"],  # Here I will define company as a partition column\n",
    "    constraints={                   # We can define constraints to be enforced as well\n",
    "        \"price_non_negative\": \"price >= 0\",\n",
    "        \"quantity_non_negative\": \"quantity >= 0\",\n",
    "    }\n",
    ")\n",
    "\n",
    "client.list_datasets(bucket=\"spaceshiptestbucket\")"
   ]
  },
  {
   "cell_type": "markdown",
   "metadata": {},
   "source": [
    "Now that the dataset is created, we can add the data the same way we did with local dataset. \n",
    "\n",
    "Let create a pandas df to add data there, but this time I will store it as a parquet as provide a parquet file instead."
   ]
  },
  {
   "cell_type": "code",
   "execution_count": 10,
   "metadata": {},
   "outputs": [],
   "source": [
    "import pandas as pd\n",
    "\n",
    "pd.DataFrame(\n",
    "    {\n",
    "        \"id\": [1, 2, 3, 4],\n",
    "        \"product\": ['chair', \"table\", \"laptop\", \"lamp\"],\n",
    "        \"price\": [100.50, 220.26, 549.0, 59.99],\n",
    "        \"quantity\": [13, 5, 10, 32],\n",
    "        \"company\": [\"AA\", \"AA\", \"BB\", \"CC\"]\n",
    "    }\n",
    ").to_parquet(\"product.parquet\")"
   ]
  },
  {
   "cell_type": "markdown",
   "metadata": {},
   "source": [
    "Then we can provide the file path to add data to the dataset."
   ]
  },
  {
   "cell_type": "code",
   "execution_count": 11,
   "metadata": {},
   "outputs": [],
   "source": [
    "client.append(\n",
    "    \"./product.parquet\", \n",
    "    \"product_dataset\", \n",
    "    bucket=\"spaceshiptestbucket\"\n",
    ")"
   ]
  },
  {
   "cell_type": "markdown",
   "metadata": {},
   "source": [
    "And we can query the data to check as usual."
   ]
  },
  {
   "cell_type": "code",
   "execution_count": 16,
   "metadata": {},
   "outputs": [
    {
     "data": {
      "text/html": [
       "<div>\n",
       "<style scoped>\n",
       "    .dataframe tbody tr th:only-of-type {\n",
       "        vertical-align: middle;\n",
       "    }\n",
       "\n",
       "    .dataframe tbody tr th {\n",
       "        vertical-align: top;\n",
       "    }\n",
       "\n",
       "    .dataframe thead th {\n",
       "        text-align: right;\n",
       "    }\n",
       "</style>\n",
       "<table border=\"1\" class=\"dataframe\">\n",
       "  <thead>\n",
       "    <tr style=\"text-align: right;\">\n",
       "      <th></th>\n",
       "      <th>id</th>\n",
       "      <th>product</th>\n",
       "      <th>price</th>\n",
       "      <th>quantity</th>\n",
       "      <th>company</th>\n",
       "    </tr>\n",
       "  </thead>\n",
       "  <tbody>\n",
       "    <tr>\n",
       "      <th>0</th>\n",
       "      <td>3</td>\n",
       "      <td>laptop</td>\n",
       "      <td>549.00</td>\n",
       "      <td>10</td>\n",
       "      <td>BB</td>\n",
       "    </tr>\n",
       "    <tr>\n",
       "      <th>1</th>\n",
       "      <td>4</td>\n",
       "      <td>lamp</td>\n",
       "      <td>59.99</td>\n",
       "      <td>32</td>\n",
       "      <td>CC</td>\n",
       "    </tr>\n",
       "    <tr>\n",
       "      <th>2</th>\n",
       "      <td>1</td>\n",
       "      <td>chair</td>\n",
       "      <td>100.50</td>\n",
       "      <td>13</td>\n",
       "      <td>AA</td>\n",
       "    </tr>\n",
       "    <tr>\n",
       "      <th>3</th>\n",
       "      <td>2</td>\n",
       "      <td>table</td>\n",
       "      <td>220.26</td>\n",
       "      <td>5</td>\n",
       "      <td>AA</td>\n",
       "    </tr>\n",
       "  </tbody>\n",
       "</table>\n",
       "</div>"
      ],
      "text/plain": [
       "   id product   price  quantity company\n",
       "0   3  laptop  549.00        10      BB\n",
       "1   4    lamp   59.99        32      CC\n",
       "2   1   chair  100.50        13      AA\n",
       "3   2   table  220.26         5      AA"
      ]
     },
     "execution_count": 16,
     "metadata": {},
     "output_type": "execute_result"
    }
   ],
   "source": [
    "client.query(\"\"\"\n",
    "\n",
    "    SELECT * FROM do.spaceshiptestbucket.product_dataset  /* do means Digital Ocean. */\n",
    "\n",
    "\"\"\").df()"
   ]
  },
  {
   "cell_type": "markdown",
   "metadata": {},
   "source": [
    "Notes:\n",
    "- If bucket name or dataset name contains `-` or any invalid SQL character. We can use `\"` to wrap around the name such as `do.\"some_invalid_n@ame\".my_dataset`\n",
    "- Spaceship comes with ability to push a file larger than memory to a dataset by partioning the data automatically."
   ]
  }
 ],
 "metadata": {
  "kernelspec": {
   "display_name": "env",
   "language": "python",
   "name": "python3"
  },
  "language_info": {
   "codemirror_mode": {
    "name": "ipython",
    "version": 3
   },
   "file_extension": ".py",
   "mimetype": "text/x-python",
   "name": "python",
   "nbconvert_exporter": "python",
   "pygments_lexer": "ipython3",
   "version": "3.11.9"
  }
 },
 "nbformat": 4,
 "nbformat_minor": 2
}
